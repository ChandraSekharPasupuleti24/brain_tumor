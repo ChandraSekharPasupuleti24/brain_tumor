{
 "cells": [
  {
   "cell_type": "code",
   "execution_count": 2,
   "metadata": {},
   "outputs": [],
   "source": [
    "import cv2\n",
    "import numpy as np\n",
    "import os\n",
    "from sklearn.model_selection import train_test_split\n",
    "import tensorflow as tf\n",
    "from tensorflow.keras.models import Sequential\n",
    "from tensorflow.keras.layers import Conv2D, MaxPooling2D, Flatten, Dense, Dropout\n",
    "from tensorflow.keras.preprocessing.image import ImageDataGenerator\n",
    "from sklearn.metrics import classification_report, confusion_matrix\n",
    "\n",
    "num_classes = 4\n",
    "\n",
    "images = []\n",
    "labels = []\n",
    "\n",
    "class_folders = [\"glioma_tumor\", \"meningioma_tumor\", \"pituitary_tumor\", \"no_tumor\"]\n",
    "\n",
    "for class_index, class_folder in enumerate(class_folders):\n",
    "    class_path = os.path.join(\"dataset\", class_folder)\n",
    "    class_files = os.listdir(class_path)\n",
    "    \n",
    "    for image_file in class_files:\n",
    "        img = cv2.imread(os.path.join(class_path, image_file))\n",
    "        img = cv2.cvtColor(img, cv2.COLOR_BGR2GRAY)\n",
    "        img = cv2.resize(img, (64, 64))\n",
    "        images.append(img)\n",
    "        labels.append(class_index)\n",
    "\n",
    "images = np.array(images)\n",
    "labels = np.array(labels)\n",
    "\n",
    "labels = tf.keras.utils.to_categorical(labels, num_classes)\n",
    "\n",
    "x_train, x_test, y_train, y_test = train_test_split(images, labels, test_size=0.3)\n",
    "x_train = x_train.reshape(-1, 64, 64, 1)\n",
    "x_test = x_test.reshape(-1, 64, 64, 1)\n",
    "\n",
    "model = Sequential()\n",
    "model.add(Conv2D(32, (3, 3), activation='relu', input_shape=(64, 64, 1)))\n",
    "model.add(MaxPooling2D((2, 2)))\n",
    "model.add(Conv2D(64, (3, 3), activation='relu'))\n",
    "model.add(MaxPooling2D((2, 2)))\n",
    "model.add(Conv2D(128, (3, 3), activation='relu'))\n",
    "model.add(MaxPooling2D((2, 2)))\n",
    "model.add(Conv2D(256, (3, 3), activation='relu'))\n",
    "model.add(MaxPooling2D((2, 2)))\n",
    "model.add(Flatten())\n",
    "model.add(Dense(256, activation='relu'))\n",
    "model.add(Dropout(0.5))\n",
    "model.add(Dense(num_classes, activation='softmax')) \n",
    "\n",
    "model.compile(optimizer='adam', loss='categorical_crossentropy', metrics=['accuracy'])\n",
    "\n"
   ]
  },
  {
   "cell_type": "code",
   "execution_count": 3,
   "metadata": {},
   "outputs": [
    {
     "name": "stdout",
     "output_type": "stream",
     "text": [
      "Epoch 1/20\n",
      "132/132 [==============================] - 11s 75ms/step - loss: 1.4203 - accuracy: 0.5681\n",
      "Epoch 2/20\n",
      "132/132 [==============================] - 10s 75ms/step - loss: 0.6073 - accuracy: 0.7429\n",
      "Epoch 3/20\n",
      "132/132 [==============================] - 10s 75ms/step - loss: 0.4423 - accuracy: 0.8119\n",
      "Epoch 4/20\n",
      "132/132 [==============================] - 10s 75ms/step - loss: 0.3604 - accuracy: 0.8579\n",
      "Epoch 5/20\n",
      "132/132 [==============================] - 10s 75ms/step - loss: 0.2616 - accuracy: 0.9021\n",
      "Epoch 6/20\n",
      "132/132 [==============================] - 10s 76ms/step - loss: 0.1894 - accuracy: 0.9319\n",
      "Epoch 7/20\n",
      "132/132 [==============================] - 10s 75ms/step - loss: 0.1484 - accuracy: 0.9455\n",
      "Epoch 8/20\n",
      "132/132 [==============================] - 10s 76ms/step - loss: 0.1193 - accuracy: 0.9600\n",
      "Epoch 9/20\n",
      "132/132 [==============================] - 10s 76ms/step - loss: 0.1113 - accuracy: 0.9612\n",
      "Epoch 10/20\n",
      "132/132 [==============================] - 10s 75ms/step - loss: 0.0718 - accuracy: 0.9743\n",
      "Epoch 11/20\n",
      "132/132 [==============================] - 10s 75ms/step - loss: 0.0711 - accuracy: 0.9760\n",
      "Epoch 12/20\n",
      "132/132 [==============================] - 10s 75ms/step - loss: 0.0763 - accuracy: 0.9726\n",
      "Epoch 13/20\n",
      "132/132 [==============================] - 10s 76ms/step - loss: 0.0863 - accuracy: 0.9714\n",
      "Epoch 14/20\n",
      "132/132 [==============================] - 10s 76ms/step - loss: 0.0457 - accuracy: 0.9850\n",
      "Epoch 15/20\n",
      "132/132 [==============================] - 10s 76ms/step - loss: 0.0464 - accuracy: 0.9843\n",
      "Epoch 16/20\n",
      "132/132 [==============================] - 10s 76ms/step - loss: 0.0776 - accuracy: 0.9726\n",
      "Epoch 17/20\n",
      "132/132 [==============================] - 10s 76ms/step - loss: 0.0479 - accuracy: 0.9829\n",
      "Epoch 18/20\n",
      "132/132 [==============================] - 10s 77ms/step - loss: 0.0606 - accuracy: 0.9805\n",
      "Epoch 19/20\n",
      "132/132 [==============================] - 10s 76ms/step - loss: 0.0278 - accuracy: 0.9900\n",
      "Epoch 20/20\n",
      "132/132 [==============================] - 10s 76ms/step - loss: 0.0219 - accuracy: 0.9940\n"
     ]
    },
    {
     "data": {
      "text/plain": [
       "<keras.src.callbacks.History at 0x22b2546d3f0>"
      ]
     },
     "execution_count": 3,
     "metadata": {},
     "output_type": "execute_result"
    }
   ],
   "source": [
    "model.fit(x_train, y_train, batch_size=32, epochs=20)"
   ]
  },
  {
   "cell_type": "code",
   "execution_count": 4,
   "metadata": {},
   "outputs": [
    {
     "name": "stdout",
     "output_type": "stream",
     "text": [
      "Test Loss: 0.3603\n",
      "Test Accuracy: 0.9339\n",
      "57/57 [==============================] - 1s 23ms/step\n",
      "Classification Report:\n",
      "              precision    recall  f1-score   support\n",
      "\n",
      "           0       0.93      0.89      0.91       435\n",
      "           1       0.90      0.86      0.88       453\n",
      "           2       0.92      0.99      0.95       465\n",
      "           3       0.99      0.99      0.99       447\n",
      "\n",
      "    accuracy                           0.93      1800\n",
      "   macro avg       0.93      0.93      0.93      1800\n",
      "weighted avg       0.93      0.93      0.93      1800\n",
      "\n",
      "Confusion Matrix:\n",
      "[[388  39   8   0]\n",
      " [ 25 390  32   6]\n",
      " [  2   2 461   0]\n",
      " [  3   1   1 442]]\n"
     ]
    }
   ],
   "source": [
    "test_loss, test_accuracy = model.evaluate(x_test, y_test, verbose=0)\n",
    "print(f\"Test Loss: {test_loss:.4f}\")\n",
    "print(f\"Test Accuracy: {test_accuracy:.4f}\")\n",
    "\n",
    "predictions = model.predict(x_test)\n",
    "\n",
    "y_test_classes = np.argmax(y_test, axis=1)\n",
    "predicted_classes = np.argmax(predictions, axis=1)\n",
    "\n",
    "print(\"Classification Report:\")\n",
    "print(classification_report(y_test_classes, predicted_classes))\n",
    "\n",
    "print(\"Confusion Matrix:\")\n",
    "print(confusion_matrix(y_test_classes, predicted_classes))"
   ]
  },
  {
   "cell_type": "code",
   "execution_count": 5,
   "metadata": {},
   "outputs": [
    {
     "name": "stderr",
     "output_type": "stream",
     "text": [
      "c:\\Users\\Chandu\\AppData\\Local\\Programs\\Python\\Python310\\lib\\site-packages\\keras\\src\\engine\\training.py:3000: UserWarning: You are saving your model as an HDF5 file via `model.save()`. This file format is considered legacy. We recommend using instead the native Keras format, e.g. `model.save('my_model.keras')`.\n",
      "  saving_api.save_model(\n"
     ]
    }
   ],
   "source": [
    "model.save('brain_tumor_model.h5')"
   ]
  },
  {
   "cell_type": "code",
   "execution_count": null,
   "metadata": {},
   "outputs": [],
   "source": []
  }
 ],
 "metadata": {
  "kernelspec": {
   "display_name": "Python 3",
   "language": "python",
   "name": "python3"
  },
  "language_info": {
   "codemirror_mode": {
    "name": "ipython",
    "version": 3
   },
   "file_extension": ".py",
   "mimetype": "text/x-python",
   "name": "python",
   "nbconvert_exporter": "python",
   "pygments_lexer": "ipython3",
   "version": "3.10.0"
  },
  "orig_nbformat": 4
 },
 "nbformat": 4,
 "nbformat_minor": 2
}
